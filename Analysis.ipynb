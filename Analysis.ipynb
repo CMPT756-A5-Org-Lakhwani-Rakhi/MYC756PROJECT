{
 "cells": [
  {
   "cell_type": "code",
   "execution_count": 1,
   "id": "77de3b4c-8101-48cf-9b16-9f039003b25b",
   "metadata": {},
   "outputs": [],
   "source": [
    "import pandas as pd"
   ]
  },
  {
   "cell_type": "markdown",
   "id": "fba98b6f",
   "metadata": {},
   "source": [
    "# creating a dataframe with the given dataset (data1)"
   ]
  },
  {
   "cell_type": "code",
   "execution_count": null,
   "id": "b07f92ad",
   "metadata": {},
   "outputs": [],
   "source": [
    "df = pd.read_csv(\"data1.csv\")"
   ]
  },
  {
   "cell_type": "markdown",
   "id": "c7771382",
   "metadata": {},
   "source": [
    "# replacing Na with 0 in the income column"
   ]
  },
  {
   "cell_type": "code",
   "execution_count": null,
   "id": "6a9d455d",
   "metadata": {},
   "outputs": [],
   "source": [
    "df['Income'] = df['Income'].fillna(0)"
   ]
  },
  {
   "cell_type": "markdown",
   "id": "4d4ce508",
   "metadata": {},
   "source": [
    "# find the average age of customers in the dataset (data1)"
   ]
  },
  {
   "cell_type": "code",
   "execution_count": null,
   "id": "ec09bd6c",
   "metadata": {},
   "outputs": [],
   "source": [
    "Average = df['Age'].mean()\n",
    "print(Average)"
   ]
  }
 ],
 "metadata": {
  "kernelspec": {
   "display_name": "Python 3 (ipykernel)",
   "language": "python",
   "name": "python3"
  },
  "language_info": {
   "codemirror_mode": {
    "name": "ipython",
    "version": 3
   },
   "file_extension": ".py",
   "mimetype": "text/x-python",
   "name": "python",
   "nbconvert_exporter": "python",
   "pygments_lexer": "ipython3",
   "version": "3.9.9"
  }
 },
 "nbformat": 4,
 "nbformat_minor": 5
}
